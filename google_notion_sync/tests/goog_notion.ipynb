{
 "cells": [
  {
   "cell_type": "code",
   "execution_count": 2,
   "metadata": {},
   "outputs": [
    {
     "name": "stdout",
     "output_type": "stream",
     "text": [
      "/Users/jasonlo/Repos/Python/google_notion_sync_git\n",
      "The autoreload extension is already loaded. To reload it, use:\n",
      "  %reload_ext autoreload\n"
     ]
    }
   ],
   "source": [
    "%cd /Users/jasonlo/Repos/Python/google_notion_sync_git/\n",
    "%pwd\n",
    "%load_ext autoreload\n",
    "%autoreload 2\n",
    "from dotenv import load_dotenv\n",
    "import os\n",
    "import logging\n",
    "import pickle\n",
    "\n",
    "from dotenv import load_dotenv\n",
    "\n",
    "from google_notion_sync.google_api.credentials import get_google_creds\n",
    "from google_notion_sync.google_api.calendar import get_all_google_calendars, get_google_calendar_service, get_google_instances, google_calendar_sync_events_list \n",
    "from google_notion_sync.google_api.drive import get_google_drive_service\n",
    "from google_notion_sync.classes.calendar import Calendar\n",
    "from google_notion_sync.classes.event import Event\n",
    "from google_notion_sync.utils.helpers import as_list\n",
    "\n",
    "logging.basicConfig(level=logging.DEBUG, format='%(asctime)s %(name)s %(levelname)s:%(message)s',filename='logs/example.log', filemode='w')\n",
    "logger = logging.getLogger(__name__)"
   ]
  },
  {
   "cell_type": "code",
   "execution_count": 2,
   "metadata": {},
   "outputs": [],
   "source": [
    "with open (\"./google_notion_sync/data/notion_calendar.pickle\",\"rb\") as f:\n",
    "    notion_calendar = pickle.load(f)"
   ]
  },
  {
   "cell_type": "code",
   "execution_count": 24,
   "metadata": {},
   "outputs": [
    {
     "data": {
      "text/plain": [
       "4"
      ]
     },
     "execution_count": 24,
     "metadata": {},
     "output_type": "execute_result"
    }
   ],
   "source": [
    "abc = [1]\n",
    "abc.extend([2])\n",
    "abc.extend([3,4])\n",
    "abc.extend([])\n",
    "len(abc)"
   ]
  },
  {
   "cell_type": "code",
   "execution_count": 3,
   "metadata": {},
   "outputs": [
    {
     "name": "stdout",
     "output_type": "stream",
     "text": [
      "Credentials could not be refreshed, possibly the authorization was revoked by the user.\n",
      "Please visit this URL to authorize this application: https://accounts.google.com/o/oauth2/auth?response_type=code&client_id=755962066150-qf4mbnmvaeb69ag1ueqkiarg4ufbcfq4.apps.googleusercontent.com&redirect_uri=http%3A%2F%2Flocalhost%3A56822%2F&scope=https%3A%2F%2Fwww.googleapis.com%2Fauth%2Fcalendar+https%3A%2F%2Fwww.googleapis.com%2Fauth%2Fdrive&state=iqklLOrIZBNytf1O0ghTSvUW3uchXP&access_type=offline\n"
     ]
    }
   ],
   "source": [
    "logger.info(\"NEW EXECUTION\")\n",
    "load_dotenv()\n",
    "GOOGLE_DRIVE_FILE_ID = os.getenv('GOOGLE_DRIVE_FILE_ID')\n",
    "SCOPES = ['https://www.googleapis.com/auth/calendar','https://www.googleapis.com/auth/drive']\n",
    "creds = get_google_creds(SCOPES, token_path='./google_notion_sync/config/token.json', credentials_path='./google_notion_sync/config/credentials.json')\n",
    "calendar_service = get_google_calendar_service(creds)\n",
    "drive_service = get_google_drive_service(creds)\n",
    "all_google_calendars = get_all_google_calendars(calendar_service)\n",
    "logger.info(all_google_calendars)"
   ]
  },
  {
   "cell_type": "code",
   "execution_count": 4,
   "metadata": {},
   "outputs": [],
   "source": [
    "google_events = google_calendar_sync_events_list(calendar_service,drive_service,google_drive_fileId=GOOGLE_DRIVE_FILE_ID, calendar_id=all_google_calendars[0]['id'],resync=False)"
   ]
  },
  {
   "cell_type": "code",
   "execution_count": 54,
   "metadata": {},
   "outputs": [
    {
     "name": "stdout",
     "output_type": "stream",
     "text": [
      "Event (googleId: 07usfcm6foo8sl1a9cb4k1il4e_20220324T233000Z  summary: Z  status: confirmed start: 2022-03-24T19:30:00-04:00  recurrence: \n",
      "Event (googleId: 07usfcm6foo8sl1a9cb4k1il4e_20220325T233000Z  summary: Z  status: confirmed start: 2022-03-25T19:30:00-04:00  recurrence: \n",
      "Event (googleId: 07usfcm6foo8sl1a9cb4k1il4e_20220327T233000Z  summary:   status: cancelled start:   recurrence: \n",
      "Event (googleId: vt81e7nfu69inrast8pak8sscs_20220326T233000Z  summary: Z  status: confirmed start: 2022-03-26T19:30:00-04:00  recurrence: \n",
      "Event (googleId: vt81e7nfu69inrast8pak8sscs_20220327T233000Z  summary: Z  status: confirmed start: 2022-03-27T19:30:00-04:00  recurrence: \n",
      "Event (googleId: vt81e7nfu69inrast8pak8sscs_20220328T233000Z  summary: Z  status: confirmed start: 2022-03-28T19:30:00-04:00  recurrence: \n",
      "Event (googleId: vt81e7nfu69inrast8pak8sscs_20220329T233000Z  summary: Z  status: confirmed start: 2022-03-29T19:30:00-04:00  recurrence: \n",
      "Event (googleId: vt81e7nfu69inrast8pak8sscs_20220330T233000Z  summary: Z  status: confirmed start: 2022-03-30T19:30:00-04:00  recurrence: \n",
      "Event (googleId: vt81e7nfu69inrast8pak8sscs_20220331T233000Z  summary: Z  status: confirmed start: 2022-03-31T19:30:00-04:00  recurrence: \n",
      "Event (googleId: vt81e7nfu69inrast8pak8sscs_20220401T233000Z  summary: Z  status: confirmed start: 2022-04-01T19:30:00-04:00  recurrence: \n",
      "Event (googleId: vt81e7nfu69inrast8pak8sscs_20220402T233000Z  summary: Z  status: confirmed start: 2022-04-02T19:30:00-04:00  recurrence: \n",
      "Event (googleId: vt81e7nfu69inrast8pak8sscs_20220403T233000Z  summary: Z  status: confirmed start: 2022-04-03T19:30:00-04:00  recurrence: \n",
      "Event (googleId: vt81e7nfu69inrast8pak8sscs_20220404T233000Z  summary: Z  status: confirmed start: 2022-04-04T19:30:00-04:00  recurrence: \n",
      "Event (googleId: vt81e7nfu69inrast8pak8sscs_20220405T233000Z  summary: Z  status: confirmed start: 2022-04-05T19:30:00-04:00  recurrence: \n"
     ]
    }
   ],
   "source": [
    "for event in google_events:\n",
    "    print (Event(event))\n"
   ]
  },
  {
   "cell_type": "code",
   "execution_count": 58,
   "metadata": {},
   "outputs": [
    {
     "name": "stdout",
     "output_type": "stream",
     "text": [
      "Event (googleId: v5bq67fg1fi2va1ef20qg2k41g_20220403T233000Z  summary: Z  status: confirmed start: 2022-04-03T19:30:00-04:00  recurrence: \n",
      "Event (googleId: v5bq67fg1fi2va1ef20qg2k41g_20220404T233000Z  summary: Z  status: confirmed start: 2022-04-04T19:30:00-04:00  recurrence: \n",
      "Event (googleId: v5bq67fg1fi2va1ef20qg2k41g_20220405T233000Z  summary: Z  status: confirmed start: 2022-04-05T19:30:00-04:00  recurrence: \n",
      "Event (googleId: v5bq67fg1fi2va1ef20qg2k41g_20220406T233000Z  summary: Z  status: confirmed start: 2022-04-06T19:30:00-04:00  recurrence: \n",
      "Event (googleId: vt81e7nfu69inrast8pak8sscs_20220326T233000Z  summary: Z  status: confirmed start: 2022-03-26T19:30:00-04:00  recurrence: \n",
      "Event (googleId: vt81e7nfu69inrast8pak8sscs_20220327T233000Z  summary: Z  status: confirmed start: 2022-03-27T19:30:00-04:00  recurrence: \n",
      "Event (googleId: vt81e7nfu69inrast8pak8sscs_20220328T233000Z  summary: Z  status: confirmed start: 2022-03-28T19:30:00-04:00  recurrence: \n",
      "Event (googleId: vt81e7nfu69inrast8pak8sscs_20220329T233000Z  summary: Z  status: confirmed start: 2022-03-29T19:30:00-04:00  recurrence: \n",
      "Event (googleId: vt81e7nfu69inrast8pak8sscs_20220330T233000Z  summary: Z  status: confirmed start: 2022-03-30T19:30:00-04:00  recurrence: \n",
      "Event (googleId: vt81e7nfu69inrast8pak8sscs_20220331T233000Z  summary: Z  status: confirmed start: 2022-03-31T19:30:00-04:00  recurrence: \n",
      "Event (googleId: vt81e7nfu69inrast8pak8sscs_20220401T233000Z  summary: Z  status: confirmed start: 2022-04-01T19:30:00-04:00  recurrence: \n",
      "Event (googleId: vt81e7nfu69inrast8pak8sscs_20220402T233000Z  summary: Z  status: confirmed start: 2022-04-02T19:30:00-04:00  recurrence: \n"
     ]
    }
   ],
   "source": [
    "for event in google_events:\n",
    "    print (Event(event))\n"
   ]
  },
  {
   "cell_type": "code",
   "execution_count": null,
   "metadata": {},
   "outputs": [
    {
     "name": "stdout",
     "output_type": "stream",
     "text": [
      "Event (googleId: v5bq67fg1fi2va1ef20qg2k41g_20220403T233000Z  summary: Z  status: confirmed start: 2022-04-03T19:30:00-04:00  recurrence: \n",
      "Event (googleId: v5bq67fg1fi2va1ef20qg2k41g_20220404T233000Z  summary: Z  status: confirmed start: 2022-04-04T19:30:00-04:00  recurrence: \n",
      "Event (googleId: v5bq67fg1fi2va1ef20qg2k41g_20220405T233000Z  summary: Z  status: confirmed start: 2022-04-05T19:30:00-04:00  recurrence: \n",
      "Event (googleId: v5bq67fg1fi2va1ef20qg2k41g_20220406T233000Z  summary: Z  status: confirmed start: 2022-04-06T19:30:00-04:00  recurrence: \n",
      "Event (googleId: vt81e7nfu69inrast8pak8sscs_20220326T233000Z  summary: Z  status: confirmed start: 2022-03-26T19:30:00-04:00  recurrence: \n",
      "Event (googleId: vt81e7nfu69inrast8pak8sscs_20220327T233000Z  summary: Z  status: confirmed start: 2022-03-27T19:30:00-04:00  recurrence: \n",
      "Event (googleId: vt81e7nfu69inrast8pak8sscs_20220328T233000Z  summary: Z  status: confirmed start: 2022-03-28T19:30:00-04:00  recurrence: \n",
      "Event (googleId: vt81e7nfu69inrast8pak8sscs_20220329T233000Z  summary: Z  status: confirmed start: 2022-03-29T19:30:00-04:00  recurrence: \n",
      "Event (googleId: vt81e7nfu69inrast8pak8sscs_20220330T233000Z  summary: Z  status: confirmed start: 2022-03-30T19:30:00-04:00  recurrence: \n",
      "Event (googleId: vt81e7nfu69inrast8pak8sscs_20220331T233000Z  summary: Z  status: confirmed start: 2022-03-31T19:30:00-04:00  recurrence: \n",
      "Event (googleId: vt81e7nfu69inrast8pak8sscs_20220401T233000Z  summary: Z  status: confirmed start: 2022-04-01T19:30:00-04:00  recurrence: \n",
      "Event (googleId: vt81e7nfu69inrast8pak8sscs_20220402T233000Z  summary: Z  status: confirmed start: 2022-04-02T19:30:00-04:00  recurrence: \n"
     ]
    }
   ],
   "source": [
    "for event in google_events:\n",
    "    print (Event(event))\n"
   ]
  },
  {
   "cell_type": "code",
   "execution_count": 62,
   "metadata": {},
   "outputs": [
    {
     "name": "stdout",
     "output_type": "stream",
     "text": [
      "Event (googleId: vt81e7nfu69inrast8pak8sscs_20220326T233000Z  summary: Z  status: confirmed start: 2022-03-26T19:30:00-04:00  recurrence: \n",
      "Event (googleId: vt81e7nfu69inrast8pak8sscs_20220327T233000Z  summary: Z  status: confirmed start: 2022-03-27T19:30:00-04:00  recurrence: \n",
      "Event (googleId: vt81e7nfu69inrast8pak8sscs_20220328T233000Z  summary: Z  status: confirmed start: 2022-03-28T19:30:00-04:00  recurrence: \n",
      "Event (googleId: vt81e7nfu69inrast8pak8sscs_20220329T233000Z  summary: Z  status: confirmed start: 2022-03-29T19:30:00-04:00  recurrence: \n",
      "Event (googleId: vt81e7nfu69inrast8pak8sscs_20220330T233000Z  summary: Z  status: confirmed start: 2022-03-30T19:30:00-04:00  recurrence: \n"
     ]
    }
   ],
   "source": [
    "for event in google_events:\n",
    "    print (Event(event))\n"
   ]
  },
  {
   "cell_type": "code",
   "execution_count": 64,
   "metadata": {},
   "outputs": [
    {
     "name": "stdout",
     "output_type": "stream",
     "text": [
      "Event (googleId: v5bq67fg1fi2va1ef20qg2k41g_20220404T233000Z  summary:   status: cancelled start:   recurrence: \n"
     ]
    }
   ],
   "source": [
    "for event in google_events:\n",
    "    print (Event(event))\n"
   ]
  },
  {
   "cell_type": "code",
   "execution_count": 66,
   "metadata": {},
   "outputs": [
    {
     "name": "stdout",
     "output_type": "stream",
     "text": [
      "Event (googleId: v5bq67fg1fi2va1ef20qg2k41g_20220403T233000Z  summary: Z  status: confirmed - instance start: 2022-04-03T19:30:00-04:00  recurrence: \n",
      "Event (googleId: v5bq67fg1fi2va1ef20qg2k41g_20220404T233000Z  summary:   status: cancelled start:   recurrence: \n"
     ]
    }
   ],
   "source": [
    "for event in google_events:\n",
    "    print (Event(event))"
   ]
  },
  {
   "cell_type": "code",
   "execution_count": 68,
   "metadata": {},
   "outputs": [
    {
     "name": "stdout",
     "output_type": "stream",
     "text": [
      "Event (googleId: 1obeaatid8je0fu5q79vu1i4cq  summary: DEFGH  status: confirmed start: 2022-03-24T17:00:00-04:00  recurrence: ['RRULE:FREQ=DAILY;UNTIL=20220331T035959Z']\n",
      "Event (googleId: 1obeaatid8je0fu5q79vu1i4cq_20220324T210000Z  summary: DEFGH  status: confirmed - instance start: 2022-03-24T17:00:00-04:00  recurrence: \n",
      "Event (googleId: 1obeaatid8je0fu5q79vu1i4cq_20220325T210000Z  summary: DEFGH  status: confirmed - instance start: 2022-03-25T17:00:00-04:00  recurrence: \n",
      "Event (googleId: 1obeaatid8je0fu5q79vu1i4cq_20220326T210000Z  summary: DEFGH  status: confirmed - instance start: 2022-03-26T17:00:00-04:00  recurrence: \n",
      "Event (googleId: 1obeaatid8je0fu5q79vu1i4cq_20220327T210000Z  summary: DEFGH  status: confirmed - instance start: 2022-03-27T17:00:00-04:00  recurrence: \n",
      "Event (googleId: 1obeaatid8je0fu5q79vu1i4cq_20220329T210000Z  summary: DEFGH  status: confirmed - instance start: 2022-03-29T17:00:00-04:00  recurrence: \n",
      "Event (googleId: 1obeaatid8je0fu5q79vu1i4cq_20220330T210000Z  summary: DEFGH  status: confirmed - instance start: 2022-03-30T17:00:00-04:00  recurrence: \n",
      "Event (googleId: 1obeaatid8je0fu5q79vu1i4cq_20220328T210000Z  summary:   status: cancelled start:   recurrence: \n",
      "Event (googleId: 1obeaatid8je0fu5q79vu1i4cq_20220402T210000Z  summary:   status: cancelled start:   recurrence: \n",
      "Event (googleId: 9f2vakokuvure2b9fdaq03eeta  summary: DEFGH  status: confirmed start: 2022-03-31T17:00:00-04:00  recurrence: ['RRULE:FREQ=DAILY;COUNT=3']\n",
      "Event (googleId: 9f2vakokuvure2b9fdaq03eeta_20220331T210000Z  summary: DEFGH  status: confirmed - instance start: 2022-03-31T17:00:00-04:00  recurrence: \n",
      "Event (googleId: 9f2vakokuvure2b9fdaq03eeta_20220401T210000Z  summary: DEFGH  status: confirmed - instance start: 2022-04-01T17:00:00-04:00  recurrence: \n",
      "Event (googleId: 9f2vakokuvure2b9fdaq03eeta_20220402T210000Z  summary: DEFGH  status: confirmed - instance start: 2022-04-02T17:00:00-04:00  recurrence: \n"
     ]
    }
   ],
   "source": [
    "for event in google_events:\n",
    "    print (Event(event))"
   ]
  },
  {
   "cell_type": "code",
   "execution_count": 5,
   "metadata": {},
   "outputs": [
    {
     "data": {
      "text/plain": [
       "([{'kind': 'calendar#event',\n",
       "   'etag': '\"3297365886410000\"',\n",
       "   'id': 'v5bq67fg1fi2va1ef20qg2k41g_20220403T233000Z',\n",
       "   'status': 'confirmed - instance',\n",
       "   'htmlLink': 'https://www.google.com/calendar/event?eid=djVicTY3ZmcxZmkydmExZWYyMHFnMms0MWdfMjAyMjA0MDNUMjMzMDAwWiB2bHBxMWhpcGN2Y29wNmQ4N285MXFxOTZ2OEBn',\n",
       "   'created': '2022-03-28T23:05:30.000Z',\n",
       "   'updated': '2022-03-30T23:29:03.205Z',\n",
       "   'summary': 'Z',\n",
       "   'creator': {'email': 'j.lo1713@gmail.com'},\n",
       "   'organizer': {'email': 'vlpq1hipcvcop6d87o91qq96v8@group.calendar.google.com',\n",
       "    'displayName': 'Trial',\n",
       "    'self': True},\n",
       "   'start': {'dateTime': '2022-04-03T19:30:00-04:00',\n",
       "    'timeZone': 'America/Toronto'},\n",
       "   'end': {'dateTime': '2022-04-03T21:30:00-04:00',\n",
       "    'timeZone': 'America/Toronto'},\n",
       "   'recurringEventId': 'v5bq67fg1fi2va1ef20qg2k41g',\n",
       "   'originalStartTime': {'dateTime': '2022-04-03T19:30:00-04:00',\n",
       "    'timeZone': 'America/Toronto'},\n",
       "   'iCalUID': 'v5bq67fg1fi2va1ef20qg2k41g@google.com',\n",
       "   'sequence': 3,\n",
       "   'reminders': {'useDefault': True},\n",
       "   'eventType': 'default'}],\n",
       " 'CNCLmaKA7_YCENCLmaKA7_YCGAUgo5b00AE=')"
      ]
     },
     "execution_count": 5,
     "metadata": {},
     "output_type": "execute_result"
    }
   ],
   "source": [
    "get_google_instances(calendar_service, all_google_calendars[0]['id'], 'v5bq67fg1fi2va1ef20qg2k41g_20220403T233000Z')"
   ]
  },
  {
   "cell_type": "code",
   "execution_count": 69,
   "metadata": {},
   "outputs": [
    {
     "name": "stdout",
     "output_type": "stream",
     "text": [
      "26\n"
     ]
    }
   ],
   "source": [
    "print (len('9f2vakokuvure2b9fdaq03eeta'))"
   ]
  },
  {
   "cell_type": "code",
   "execution_count": 18,
   "metadata": {},
   "outputs": [
    {
     "name": "stdout",
     "output_type": "stream",
     "text": [
      "Calendar with 4 events: \n",
      "0: Event (googleId: ababcdefghijklmnopqrstuvwxyz  summary:   status:  start:   recurrence:   \n",
      "1: Event (googleId: ababcdefghijklmnopqrstuvwxyzcde  summary:   status:  start:   recurrence:   \n",
      "2: Event (googleId: abcdefghijklmnopqrstuvwxyz  summary:   status:  start:   recurrence:   \n",
      "3: Event (googleId: abcdefghijklmnopqrstuvwxyzabc  summary:   status:  start:   recurrence:   \n",
      "\n",
      "Calendar with 3 events: \n",
      "0: Event (googleId: ababcdefghijklmnopqrstuvwxyz  summary:   status:  start:   recurrence:   \n",
      "1: Event (googleId: ababcdefghijklmnopqrstuvwxyzcde  summary:   status:  start:   recurrence:   \n",
      "2: Event (googleId: abcdefghijklmnopqrstuvwxyzabc  summary:   status:  start:   recurrence:   \n",
      "\n"
     ]
    }
   ],
   "source": [
    "ev1 = Event(googleId=\"ababcdefghijklmnopqrstuvwxyz\")\n",
    "ev2 = Event(googleId=\"ababcdefghijklmnopqrstuvwxyzcde\")\n",
    "ev3 = Event(googleId='abcdefghijklmnopqrstuvwxyz')\n",
    "ev4 = Event(googleId='abcdefghijklmnopqrstuvwxyzabc')\n",
    "cal = Calendar()\n",
    "cal.all_events.append(ev1)\n",
    "cal.all_events.append(ev2)\n",
    "cal.all_events.append(ev3)\n",
    "cal.all_events.append(ev4)\n",
    "print (cal)\n",
    "cal.delete_event(ev3, del_all_instances=False)\n",
    "print (cal)"
   ]
  },
  {
   "cell_type": "code",
   "execution_count": null,
   "metadata": {},
   "outputs": [],
   "source": []
  }
 ],
 "metadata": {
  "interpreter": {
   "hash": "5f7b672531c92fcc8fe01398d50c76a33cf345ff36fd9c6dbd73f1b4d24fb3a5"
  },
  "kernelspec": {
   "display_name": "Python 3.9.10 ('.venv': venv)",
   "language": "python",
   "name": "python3"
  },
  "language_info": {
   "codemirror_mode": {
    "name": "ipython",
    "version": 3
   },
   "file_extension": ".py",
   "mimetype": "text/x-python",
   "name": "python",
   "nbconvert_exporter": "python",
   "pygments_lexer": "ipython3",
   "version": "3.9.10"
  },
  "orig_nbformat": 4
 },
 "nbformat": 4,
 "nbformat_minor": 2
}
